{
 "cells": [
  {
   "cell_type": "code",
   "execution_count": 1,
   "id": "51c1bb3d-e3e8-4b88-a77e-d41943c3bde0",
   "metadata": {
    "tags": []
   },
   "outputs": [],
   "source": [
    "import pandas as pd\n",
    "import numpy as np\n",
    "import pandas as pd\n",
    "import numpy as np\n",
    "import matplotlib.pyplot as plt\n",
    "from scipy.optimize import curve_fit\n",
    "from scipy.stats import norm"
   ]
  },
  {
   "cell_type": "code",
   "execution_count": 2,
   "id": "09d94459-7c94-457e-8c9e-d78c6cfddf04",
   "metadata": {
    "tags": []
   },
   "outputs": [],
   "source": [
    "voltages = np.arange(101,1001,1,dtype=int)"
   ]
  },
  {
   "cell_type": "code",
   "execution_count": 3,
   "id": "17791a60-fc77-480a-8a33-1f433e8b2b9c",
   "metadata": {
    "tags": []
   },
   "outputs": [
    {
     "data": {
      "text/plain": [
       "900"
      ]
     },
     "execution_count": 3,
     "metadata": {},
     "output_type": "execute_result"
    }
   ],
   "source": [
    "voltages2 = voltages/10\n",
    "voltages2\n",
    "len(voltages2)"
   ]
  },
  {
   "cell_type": "code",
   "execution_count": 4,
   "id": "03f99cb8-bc78-41e5-af1d-9221f56743eb",
   "metadata": {
    "tags": []
   },
   "outputs": [
    {
     "data": {
      "text/html": [
       "<div>\n",
       "<style scoped>\n",
       "    .dataframe tbody tr th:only-of-type {\n",
       "        vertical-align: middle;\n",
       "    }\n",
       "\n",
       "    .dataframe tbody tr th {\n",
       "        vertical-align: top;\n",
       "    }\n",
       "\n",
       "    .dataframe thead th {\n",
       "        text-align: right;\n",
       "    }\n",
       "</style>\n",
       "<table border=\"1\" class=\"dataframe\">\n",
       "  <thead>\n",
       "    <tr style=\"text-align: right;\">\n",
       "      <th></th>\n",
       "      <th>b</th>\n",
       "      <th>d</th>\n",
       "      <th>converted</th>\n",
       "      <th>firstBit</th>\n",
       "      <th>secondBit</th>\n",
       "      <th>thirdBit</th>\n",
       "      <th>firstBitInvert</th>\n",
       "      <th>secondBitInvert</th>\n",
       "      <th>thirdBitInvert</th>\n",
       "    </tr>\n",
       "  </thead>\n",
       "  <tbody>\n",
       "    <tr>\n",
       "      <th>0</th>\n",
       "      <td>101</td>\n",
       "      <td>252.0</td>\n",
       "      <td>11111100.0</td>\n",
       "      <td>1.0</td>\n",
       "      <td>1.0</td>\n",
       "      <td>1.0</td>\n",
       "      <td>0.0</td>\n",
       "      <td>0.0</td>\n",
       "      <td>0.0</td>\n",
       "    </tr>\n",
       "    <tr>\n",
       "      <th>1</th>\n",
       "      <td>102</td>\n",
       "      <td>252.0</td>\n",
       "      <td>11111100.0</td>\n",
       "      <td>1.0</td>\n",
       "      <td>1.0</td>\n",
       "      <td>1.0</td>\n",
       "      <td>0.0</td>\n",
       "      <td>0.0</td>\n",
       "      <td>0.0</td>\n",
       "    </tr>\n",
       "    <tr>\n",
       "      <th>2</th>\n",
       "      <td>103</td>\n",
       "      <td>252.0</td>\n",
       "      <td>11111100.0</td>\n",
       "      <td>1.0</td>\n",
       "      <td>1.0</td>\n",
       "      <td>1.0</td>\n",
       "      <td>0.0</td>\n",
       "      <td>0.0</td>\n",
       "      <td>0.0</td>\n",
       "    </tr>\n",
       "    <tr>\n",
       "      <th>3</th>\n",
       "      <td>104</td>\n",
       "      <td>252.0</td>\n",
       "      <td>11111100.0</td>\n",
       "      <td>1.0</td>\n",
       "      <td>1.0</td>\n",
       "      <td>1.0</td>\n",
       "      <td>0.0</td>\n",
       "      <td>0.0</td>\n",
       "      <td>0.0</td>\n",
       "    </tr>\n",
       "    <tr>\n",
       "      <th>4</th>\n",
       "      <td>105</td>\n",
       "      <td>252.0</td>\n",
       "      <td>11111100.0</td>\n",
       "      <td>1.0</td>\n",
       "      <td>1.0</td>\n",
       "      <td>1.0</td>\n",
       "      <td>0.0</td>\n",
       "      <td>0.0</td>\n",
       "      <td>0.0</td>\n",
       "    </tr>\n",
       "    <tr>\n",
       "      <th>...</th>\n",
       "      <td>...</td>\n",
       "      <td>...</td>\n",
       "      <td>...</td>\n",
       "      <td>...</td>\n",
       "      <td>...</td>\n",
       "      <td>...</td>\n",
       "      <td>...</td>\n",
       "      <td>...</td>\n",
       "      <td>...</td>\n",
       "    </tr>\n",
       "    <tr>\n",
       "      <th>895</th>\n",
       "      <td>996</td>\n",
       "      <td>140.0</td>\n",
       "      <td>10001100.0</td>\n",
       "      <td>0.0</td>\n",
       "      <td>0.0</td>\n",
       "      <td>0.0</td>\n",
       "      <td>1.0</td>\n",
       "      <td>1.0</td>\n",
       "      <td>1.0</td>\n",
       "    </tr>\n",
       "    <tr>\n",
       "      <th>896</th>\n",
       "      <td>997</td>\n",
       "      <td>140.0</td>\n",
       "      <td>10001100.0</td>\n",
       "      <td>0.0</td>\n",
       "      <td>0.0</td>\n",
       "      <td>0.0</td>\n",
       "      <td>1.0</td>\n",
       "      <td>1.0</td>\n",
       "      <td>1.0</td>\n",
       "    </tr>\n",
       "    <tr>\n",
       "      <th>897</th>\n",
       "      <td>998</td>\n",
       "      <td>140.0</td>\n",
       "      <td>10001100.0</td>\n",
       "      <td>0.0</td>\n",
       "      <td>0.0</td>\n",
       "      <td>0.0</td>\n",
       "      <td>1.0</td>\n",
       "      <td>1.0</td>\n",
       "      <td>1.0</td>\n",
       "    </tr>\n",
       "    <tr>\n",
       "      <th>898</th>\n",
       "      <td>999</td>\n",
       "      <td>140.0</td>\n",
       "      <td>10001100.0</td>\n",
       "      <td>0.0</td>\n",
       "      <td>0.0</td>\n",
       "      <td>0.0</td>\n",
       "      <td>1.0</td>\n",
       "      <td>1.0</td>\n",
       "      <td>1.0</td>\n",
       "    </tr>\n",
       "    <tr>\n",
       "      <th>899</th>\n",
       "      <td>1000</td>\n",
       "      <td>140.0</td>\n",
       "      <td>10001100.0</td>\n",
       "      <td>0.0</td>\n",
       "      <td>0.0</td>\n",
       "      <td>0.0</td>\n",
       "      <td>1.0</td>\n",
       "      <td>1.0</td>\n",
       "      <td>1.0</td>\n",
       "    </tr>\n",
       "  </tbody>\n",
       "</table>\n",
       "<p>900 rows × 9 columns</p>\n",
       "</div>"
      ],
      "text/plain": [
       "        b      d   converted  firstBit  secondBit  thirdBit  firstBitInvert  \\\n",
       "0     101  252.0  11111100.0       1.0        1.0       1.0             0.0   \n",
       "1     102  252.0  11111100.0       1.0        1.0       1.0             0.0   \n",
       "2     103  252.0  11111100.0       1.0        1.0       1.0             0.0   \n",
       "3     104  252.0  11111100.0       1.0        1.0       1.0             0.0   \n",
       "4     105  252.0  11111100.0       1.0        1.0       1.0             0.0   \n",
       "..    ...    ...         ...       ...        ...       ...             ...   \n",
       "895   996  140.0  10001100.0       0.0        0.0       0.0             1.0   \n",
       "896   997  140.0  10001100.0       0.0        0.0       0.0             1.0   \n",
       "897   998  140.0  10001100.0       0.0        0.0       0.0             1.0   \n",
       "898   999  140.0  10001100.0       0.0        0.0       0.0             1.0   \n",
       "899  1000  140.0  10001100.0       0.0        0.0       0.0             1.0   \n",
       "\n",
       "     secondBitInvert  thirdBitInvert  \n",
       "0                0.0             0.0  \n",
       "1                0.0             0.0  \n",
       "2                0.0             0.0  \n",
       "3                0.0             0.0  \n",
       "4                0.0             0.0  \n",
       "..               ...             ...  \n",
       "895              1.0             1.0  \n",
       "896              1.0             1.0  \n",
       "897              1.0             1.0  \n",
       "898              1.0             1.0  \n",
       "899              1.0             1.0  \n",
       "\n",
       "[900 rows x 9 columns]"
      ]
     },
     "execution_count": 4,
     "metadata": {},
     "output_type": "execute_result"
    }
   ],
   "source": [
    "readInData = pd.read_csv('Oct30_SinglePixelData.csv')\n",
    "readInData"
   ]
  },
  {
   "cell_type": "code",
   "execution_count": 9,
   "id": "fb44c519-94bd-4887-a5ea-41bc14d1cc7b",
   "metadata": {
    "tags": []
   },
   "outputs": [
    {
     "data": {
      "text/plain": [
       "Text(0, 0.5, 'fraction')"
      ]
     },
     "execution_count": 9,
     "metadata": {},
     "output_type": "execute_result"
    },
    {
     "data": {
      "image/png": "[encoded data removed]",
      "text/plain": [
       "<Figure size 640x480 with 1 Axes>"
      ]
     },
     "metadata": {},
     "output_type": "display_data"
    }
   ],
   "source": [
    "#ydata0 = readInData['firstBit'].to_numpy().flatten()\n",
    "#ydata1 = readInData['secondtBit'].to_numpy().flatten()\n",
    "#ydata2 = readInData['thirdBit'].to_numpy().flatten()\n",
    "ydata0 = readInData['firstBitInvert'].to_numpy().flatten()\n",
    "ydata1 = readInData['secondBitInvert'].to_numpy().flatten()\n",
    "ydata2 = readInData['thirdBitInvert'].to_numpy().flatten()\n",
    "\n",
    "plt.plot(voltages2,ydata0, label='bit 0')\n",
    "plt.plot(voltages2,ydata1, label='bit 1')\n",
    "plt.plot(voltages2,ydata2, label='bit 2')\n",
    "plt.legend(loc='upper left',framealpha=0.0)\n",
    "plt.xlabel('voltage (mV)')\n",
    "plt.ylabel('fraction')"
   ]
  },
  {
   "cell_type": "code",
   "execution_count": 6,
   "id": "eab5d10c-859c-4f1e-831c-a8d7fcf26c28",
   "metadata": {},
   "outputs": [
    {
     "name": "stdout",
     "output_type": "stream",
     "text": [
      "Mean 87.6417, StdDev 1.5151\n",
      "Covariance matrix:\n",
      "[[ 3.31996282e-05 -1.42486752e-11]\n",
      " [-1.42486752e-11  6.63992574e-05]]\n"
     ]
    }
   ],
   "source": [
    "# The first parameter is the mean and the second is the stdev, so I set it to -inf to +inf for the mean and 0 to inf for the stdev.\n",
    "#For the initial guess for the fit, you can adjust the p0 values (first value is the initial guess of the mean, second is guess for the standard deviation.\n",
    "fitResult=curve_fit(f=norm.cdf, xdata=voltages2.flatten(), ydata=ydata0,p0=[10,1],bounds=((-np.inf,0),(np.inf,np.inf)))\n",
    "mean_, std_=fitResult[0]\n",
    "print(f\"Mean {mean_:.4f}, StdDev {std_:.4f}\")\n",
    "print('Covariance matrix:')\n",
    "print(fitResult[1])"
   ]
  },
  {
   "cell_type": "code",
   "execution_count": 7,
   "id": "0d37cfc4-ee4a-47bc-8553-3a77175c2fe0",
   "metadata": {
    "tags": []
   },
   "outputs": [
    {
     "name": "stdout",
     "output_type": "stream",
     "text": [
      "Mean 45.5829, StdDev 1.2684\n",
      "Covariance matrix:\n",
      "[[ 4.93562968e-07 -1.33632922e-13]\n",
      " [-1.33632922e-13  9.87125940e-07]]\n"
     ]
    }
   ],
   "source": [
    "fitResult=curve_fit(f=norm.cdf, xdata=voltages2.flatten(), ydata=ydata1,p0=[10,1],bounds=((-np.inf,0),(np.inf,np.inf)))\n",
    "mean_, std_=fitResult[0]\n",
    "print(f\"Mean {mean_:.4f}, StdDev {std_:.4f}\")\n",
    "print('Covariance matrix:')\n",
    "print(fitResult[1])"
   ]
  },
  {
   "cell_type": "code",
   "execution_count": 8,
   "id": "dc915468-3f6f-4edd-9363-01d93297574e",
   "metadata": {
    "tags": []
   },
   "outputs": [
    {
     "name": "stdout",
     "output_type": "stream",
     "text": [
      "Mean 24.4037, StdDev 1.2915\n",
      "Covariance matrix:\n",
      "[[ 1.29864756e-05 -1.81079847e-12]\n",
      " [-1.81079847e-12  2.59729513e-05]]\n"
     ]
    }
   ],
   "source": [
    "fitResult=curve_fit(f=norm.cdf, xdata=voltages2.flatten(), ydata=ydata2, p0=[10,1],bounds=((-np.inf,0),(np.inf,np.inf)))\n",
    "mean_, std_=fitResult[0]\n",
    "print(f\"Mean {mean_:.4f}, StdDev {std_:.4f}\")\n",
    "print('Covariance matrix:')\n",
    "print(fitResult[1])"
   ]
  }
 ],
 "metadata": {
  "kernelspec": {
   "display_name": "Python 3 (ipykernel)",
   "language": "python",
   "name": "py3-preamble"
  },
  "language_info": {
   "codemirror_mode": {
    "name": "ipython",
    "version": 3
   },
   "file_extension": ".py",
   "mimetype": "text/x-python",
   "name": "python",
   "nbconvert_exporter": "python",
   "pygments_lexer": "ipython3",
   "version": "3.9.15"
  }
 },
 "nbformat": 4,
 "nbformat_minor": 5
}
