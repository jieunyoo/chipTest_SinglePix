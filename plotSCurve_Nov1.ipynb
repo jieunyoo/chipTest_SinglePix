{
 "cells": [
  {
   "cell_type": "code",
   "execution_count": 1,
   "id": "51c1bb3d-e3e8-4b88-a77e-d41943c3bde0",
   "metadata": {
    "tags": []
   },
   "outputs": [],
   "source": [
    "import pandas as pd\n",
    "import numpy as np\n",
    "import pandas as pd\n",
    "import numpy as np\n",
    "import matplotlib.pyplot as plt\n",
    "from scipy.optimize import curve_fit\n",
    "from scipy.stats import norm"
   ]
  },
  {
   "cell_type": "code",
   "execution_count": 2,
   "id": "09d94459-7c94-457e-8c9e-d78c6cfddf04",
   "metadata": {
    "tags": []
   },
   "outputs": [],
   "source": [
    "voltages = np.arange(101,1001,1,dtype=int)"
   ]
  },
  {
   "cell_type": "code",
   "execution_count": 3,
   "id": "17791a60-fc77-480a-8a33-1f433e8b2b9c",
   "metadata": {
    "tags": []
   },
   "outputs": [
    {
     "data": {
      "text/plain": [
       "900"
      ]
     },
     "execution_count": 3,
     "metadata": {},
     "output_type": "execute_result"
    }
   ],
   "source": [
    "voltages2 = voltages/10\n",
    "voltages2\n",
    "len(voltages2)"
   ]
  },
  {
   "cell_type": "code",
   "execution_count": 4,
   "id": "03f99cb8-bc78-41e5-af1d-9221f56743eb",
   "metadata": {
    "tags": []
   },
   "outputs": [
    {
     "data": {
      "text/html": [
       "<div>\n",
       "<style scoped>\n",
       "    .dataframe tbody tr th:only-of-type {\n",
       "        vertical-align: middle;\n",
       "    }\n",
       "\n",
       "    .dataframe tbody tr th {\n",
       "        vertical-align: top;\n",
       "    }\n",
       "\n",
       "    .dataframe thead th {\n",
       "        text-align: right;\n",
       "    }\n",
       "</style>\n",
       "<table border=\"1\" class=\"dataframe\">\n",
       "  <thead>\n",
       "    <tr style=\"text-align: right;\">\n",
       "      <th></th>\n",
       "      <th>b</th>\n",
       "      <th>d</th>\n",
       "      <th>converted</th>\n",
       "      <th>firstBit</th>\n",
       "      <th>secondBit</th>\n",
       "      <th>thirdBit</th>\n",
       "      <th>firstBitInvert</th>\n",
       "      <th>secondBitInvert</th>\n",
       "      <th>thirdBitInvert</th>\n",
       "    </tr>\n",
       "  </thead>\n",
       "  <tbody>\n",
       "    <tr>\n",
       "      <th>0</th>\n",
       "      <td>101</td>\n",
       "      <td>240.000000</td>\n",
       "      <td>1.111000e+07</td>\n",
       "      <td>1.000000</td>\n",
       "      <td>1.000000</td>\n",
       "      <td>1.000000</td>\n",
       "      <td>0.000000</td>\n",
       "      <td>0.000000</td>\n",
       "      <td>0.000000</td>\n",
       "    </tr>\n",
       "    <tr>\n",
       "      <th>1</th>\n",
       "      <td>102</td>\n",
       "      <td>240.000000</td>\n",
       "      <td>1.111000e+07</td>\n",
       "      <td>1.000000</td>\n",
       "      <td>1.000000</td>\n",
       "      <td>1.000000</td>\n",
       "      <td>0.000000</td>\n",
       "      <td>0.000000</td>\n",
       "      <td>0.000000</td>\n",
       "    </tr>\n",
       "    <tr>\n",
       "      <th>2</th>\n",
       "      <td>103</td>\n",
       "      <td>239.991579</td>\n",
       "      <td>1.110999e+07</td>\n",
       "      <td>1.000000</td>\n",
       "      <td>1.000000</td>\n",
       "      <td>0.999474</td>\n",
       "      <td>0.000000</td>\n",
       "      <td>0.000000</td>\n",
       "      <td>0.000526</td>\n",
       "    </tr>\n",
       "    <tr>\n",
       "      <th>3</th>\n",
       "      <td>104</td>\n",
       "      <td>239.903158</td>\n",
       "      <td>1.110937e+07</td>\n",
       "      <td>0.999474</td>\n",
       "      <td>0.999211</td>\n",
       "      <td>0.997632</td>\n",
       "      <td>0.000526</td>\n",
       "      <td>0.000789</td>\n",
       "      <td>0.002368</td>\n",
       "    </tr>\n",
       "    <tr>\n",
       "      <th>4</th>\n",
       "      <td>105</td>\n",
       "      <td>239.966316</td>\n",
       "      <td>1.110971e+07</td>\n",
       "      <td>0.999737</td>\n",
       "      <td>0.999737</td>\n",
       "      <td>0.999474</td>\n",
       "      <td>0.000263</td>\n",
       "      <td>0.000263</td>\n",
       "      <td>0.000526</td>\n",
       "    </tr>\n",
       "    <tr>\n",
       "      <th>...</th>\n",
       "      <td>...</td>\n",
       "      <td>...</td>\n",
       "      <td>...</td>\n",
       "      <td>...</td>\n",
       "      <td>...</td>\n",
       "      <td>...</td>\n",
       "      <td>...</td>\n",
       "      <td>...</td>\n",
       "      <td>...</td>\n",
       "    </tr>\n",
       "    <tr>\n",
       "      <th>895</th>\n",
       "      <td>996</td>\n",
       "      <td>128.000000</td>\n",
       "      <td>1.000000e+07</td>\n",
       "      <td>0.000000</td>\n",
       "      <td>0.000000</td>\n",
       "      <td>0.000000</td>\n",
       "      <td>1.000000</td>\n",
       "      <td>1.000000</td>\n",
       "      <td>1.000000</td>\n",
       "    </tr>\n",
       "    <tr>\n",
       "      <th>896</th>\n",
       "      <td>997</td>\n",
       "      <td>128.000000</td>\n",
       "      <td>1.000000e+07</td>\n",
       "      <td>0.000000</td>\n",
       "      <td>0.000000</td>\n",
       "      <td>0.000000</td>\n",
       "      <td>1.000000</td>\n",
       "      <td>1.000000</td>\n",
       "      <td>1.000000</td>\n",
       "    </tr>\n",
       "    <tr>\n",
       "      <th>897</th>\n",
       "      <td>998</td>\n",
       "      <td>128.000000</td>\n",
       "      <td>1.000000e+07</td>\n",
       "      <td>0.000000</td>\n",
       "      <td>0.000000</td>\n",
       "      <td>0.000000</td>\n",
       "      <td>1.000000</td>\n",
       "      <td>1.000000</td>\n",
       "      <td>1.000000</td>\n",
       "    </tr>\n",
       "    <tr>\n",
       "      <th>898</th>\n",
       "      <td>999</td>\n",
       "      <td>128.000000</td>\n",
       "      <td>1.000000e+07</td>\n",
       "      <td>0.000000</td>\n",
       "      <td>0.000000</td>\n",
       "      <td>0.000000</td>\n",
       "      <td>1.000000</td>\n",
       "      <td>1.000000</td>\n",
       "      <td>1.000000</td>\n",
       "    </tr>\n",
       "    <tr>\n",
       "      <th>899</th>\n",
       "      <td>1000</td>\n",
       "      <td>128.000000</td>\n",
       "      <td>1.000000e+07</td>\n",
       "      <td>0.000000</td>\n",
       "      <td>0.000000</td>\n",
       "      <td>0.000000</td>\n",
       "      <td>1.000000</td>\n",
       "      <td>1.000000</td>\n",
       "      <td>1.000000</td>\n",
       "    </tr>\n",
       "  </tbody>\n",
       "</table>\n",
       "<p>900 rows × 9 columns</p>\n",
       "</div>"
      ],
      "text/plain": [
       "        b           d     converted  firstBit  secondBit  thirdBit  \\\n",
       "0     101  240.000000  1.111000e+07  1.000000   1.000000  1.000000   \n",
       "1     102  240.000000  1.111000e+07  1.000000   1.000000  1.000000   \n",
       "2     103  239.991579  1.110999e+07  1.000000   1.000000  0.999474   \n",
       "3     104  239.903158  1.110937e+07  0.999474   0.999211  0.997632   \n",
       "4     105  239.966316  1.110971e+07  0.999737   0.999737  0.999474   \n",
       "..    ...         ...           ...       ...        ...       ...   \n",
       "895   996  128.000000  1.000000e+07  0.000000   0.000000  0.000000   \n",
       "896   997  128.000000  1.000000e+07  0.000000   0.000000  0.000000   \n",
       "897   998  128.000000  1.000000e+07  0.000000   0.000000  0.000000   \n",
       "898   999  128.000000  1.000000e+07  0.000000   0.000000  0.000000   \n",
       "899  1000  128.000000  1.000000e+07  0.000000   0.000000  0.000000   \n",
       "\n",
       "     firstBitInvert  secondBitInvert  thirdBitInvert  \n",
       "0          0.000000         0.000000        0.000000  \n",
       "1          0.000000         0.000000        0.000000  \n",
       "2          0.000000         0.000000        0.000526  \n",
       "3          0.000526         0.000789        0.002368  \n",
       "4          0.000263         0.000263        0.000526  \n",
       "..              ...              ...             ...  \n",
       "895        1.000000         1.000000        1.000000  \n",
       "896        1.000000         1.000000        1.000000  \n",
       "897        1.000000         1.000000        1.000000  \n",
       "898        1.000000         1.000000        1.000000  \n",
       "899        1.000000         1.000000        1.000000  \n",
       "\n",
       "[900 rows x 9 columns]"
      ]
     },
     "execution_count": 4,
     "metadata": {},
     "output_type": "execute_result"
    }
   ],
   "source": [
    "readInData = pd.read_csv('Nov1_SinglePixelData.csv')\n",
    "readInData"
   ]
  },
  {
   "cell_type": "code",
   "execution_count": 5,
   "id": "fb44c519-94bd-4887-a5ea-41bc14d1cc7b",
   "metadata": {
    "tags": []
   },
   "outputs": [
    {
     "data": {
      "text/plain": [
       "Text(0, 0.5, 'fraction')"
      ]
     },
     "execution_count": 5,
     "metadata": {},
     "output_type": "execute_result"
    },
    {
     "data": {
      "image/png": "[encoded data removed]",
      "text/plain": [
       "<Figure size 640x480 with 1 Axes>"
      ]
     },
     "metadata": {},
     "output_type": "display_data"
    }
   ],
   "source": [
    "#ydata0 = readInData['firstBit'].to_numpy().flatten()\n",
    "#ydata1 = readInData['secondtBit'].to_numpy().flatten()\n",
    "#ydata2 = readInData['thirdBit'].to_numpy().flatten()\n",
    "ydata0 = readInData['firstBitInvert'].to_numpy().flatten()\n",
    "ydata1 = readInData['secondBitInvert'].to_numpy().flatten()\n",
    "ydata2 = readInData['thirdBitInvert'].to_numpy().flatten()\n",
    "\n",
    "plt.plot(voltages2,ydata0, label='bit 0')\n",
    "plt.plot(voltages2,ydata1, label='bit 1')\n",
    "plt.plot(voltages2,ydata2, label='bit 2')\n",
    "plt.legend(loc='upper left',framealpha=0.0)\n",
    "plt.xlabel('voltage (mV)')\n",
    "plt.ylabel('fraction')"
   ]
  },
  {
   "cell_type": "code",
   "execution_count": 6,
   "id": "eab5d10c-859c-4f1e-831c-a8d7fcf26c28",
   "metadata": {},
   "outputs": [
    {
     "name": "stdout",
     "output_type": "stream",
     "text": [
      "Mean 23.5316, StdDev 1.2719\n",
      "Covariance matrix:\n",
      "[[ 8.68277819e-06 -1.15854267e-12]\n",
      " [-1.15854267e-12  1.73655566e-05]]\n"
     ]
    }
   ],
   "source": [
    "# The first parameter is the mean and the second is the stdev, so I set it to -inf to +inf for the mean and 0 to inf for the stdev.\n",
    "#For the initial guess for the fit, you can adjust the p0 values (first value is the initial guess of the mean, second is guess for the standard deviation.\n",
    "fitResult=curve_fit(f=norm.cdf, xdata=voltages2.flatten(), ydata=ydata0,p0=[10,1],bounds=((-np.inf,0),(np.inf,np.inf)))\n",
    "mean_, std_=fitResult[0]\n",
    "print(f\"Mean {mean_:.4f}, StdDev {std_:.4f}\")\n",
    "print('Covariance matrix:')\n",
    "print(fitResult[1])"
   ]
  },
  {
   "cell_type": "code",
   "execution_count": 7,
   "id": "0d37cfc4-ee4a-47bc-8553-3a77175c2fe0",
   "metadata": {
    "tags": []
   },
   "outputs": [
    {
     "name": "stdout",
     "output_type": "stream",
     "text": [
      "Mean 42.9957, StdDev 1.2126\n",
      "Covariance matrix:\n",
      "[[ 2.86376729e-06 -7.67531945e-13]\n",
      " [-7.67531945e-13  5.72753458e-06]]\n"
     ]
    }
   ],
   "source": [
    "fitResult=curve_fit(f=norm.cdf, xdata=voltages2.flatten(), ydata=ydata1,p0=[10,1],bounds=((-np.inf,0),(np.inf,np.inf)))\n",
    "mean_, std_=fitResult[0]\n",
    "print(f\"Mean {mean_:.4f}, StdDev {std_:.4f}\")\n",
    "print('Covariance matrix:')\n",
    "print(fitResult[1])"
   ]
  },
  {
   "cell_type": "code",
   "execution_count": 8,
   "id": "dc915468-3f6f-4edd-9363-01d93297574e",
   "metadata": {
    "tags": []
   },
   "outputs": [
    {
     "name": "stdout",
     "output_type": "stream",
     "text": [
      "Mean 80.6114, StdDev 17.2707\n",
      "Covariance matrix:\n",
      "[[0.12791517 0.02656461]\n",
      " [0.02656461 0.31562899]]\n"
     ]
    }
   ],
   "source": [
    "fitResult=curve_fit(f=norm.cdf, xdata=voltages2.flatten(), ydata=ydata2, p0=[10,1],bounds=((-np.inf,0),(np.inf,np.inf)))\n",
    "mean_, std_=fitResult[0]\n",
    "print(f\"Mean {mean_:.4f}, StdDev {std_:.4f}\")\n",
    "print('Covariance matrix:')\n",
    "print(fitResult[1])"
   ]
  }
 ],
 "metadata": {
  "kernelspec": {
   "display_name": "Python 3 (ipykernel)",
   "language": "python",
   "name": "py3-preamble"
  },
  "language_info": {
   "codemirror_mode": {
    "name": "ipython",
    "version": 3
   },
   "file_extension": ".py",
   "mimetype": "text/x-python",
   "name": "python",
   "nbconvert_exporter": "python",
   "pygments_lexer": "ipython3",
   "version": "3.9.15"
  }
 },
 "nbformat": 4,
 "nbformat_minor": 5
}
